{
 "cells": [
  {
   "cell_type": "markdown",
   "id": "729e3a89274191e3",
   "metadata": {},
   "source": [
    "# Nautilus Benchmark Analysis\n",
    "\n",
    "## Introduction\n",
    "\n",
    "Welcome to the Nautilus Benchmark Analysis Notebook. This notebook is designed to analyze and visualize performance data collected from the **Nautilus** project’s benchmarking suite. The benchmarks cover various aspects of the system, including **key storage performance, mDNS service efficiency, and network latency**.\n",
    "\n",
    "By leveraging Python's powerful data analysis libraries, we aim to extract meaningful insights from the collected data.\n",
    "\n",
    "## Tools and Libraries\n",
    "\n",
    "To facilitate this analysis, we will utilize the following libraries:\n",
    "\n",
    "- **Pandas** for data manipulation and processing.\n",
    "- **Matplotlib & Seaborn** for data visualization and trend analysis.\n",
    "- **NumPy** for numerical computations.\n",
    "\n",
    "Before proceeding, ensure all required dependencies are installed:\n",
    "\n",
    "```bash\n",
    "pip install pandas matplotlib seaborn numpy\n",
    "```\n"
   ]
  },
  {
   "cell_type": "code",
   "execution_count": 1,
   "id": "43490b27e764848c",
   "metadata": {},
   "outputs": [],
   "source": [
    "# Python Imports\n",
    "import pandas as pd        \n",
    "import seaborn as sns      \n",
    "import matplotlib.pyplot as plt "
   ]
  },
  {
   "cell_type": "code",
   "execution_count": 2,
   "id": "5ecfc5492f7f20e5",
   "metadata": {},
   "outputs": [],
   "source": [
    "# PKI Benchmark Files\n",
    "pki_files = {\n",
    "    \"keypair_generation\": pd.read_csv(\"keypair_generation.csv\"),\n",
    "    \"pki_serialization\": pd.read_csv(\"pki_serialization_benchmark.csv\"),\n",
    "    \"pki_throughput\": pd.read_csv(\"pki_throughput_benchmark.csv\"),\n",
    "    \"pki_verify_sign\": pd.read_csv(\"pki_verify_sign_benchmark.csv\"),\n",
    "    \"pki_keyexchange\" : pd.read_csv(\"pki_key_exchange_benchmark.csv\")\n",
    "}"
   ]
  },
  {
   "cell_type": "code",
   "execution_count": null,
   "id": "120a69e03139cb2b",
   "metadata": {},
   "outputs": [],
   "source": [
    "for name, df in pki_files.items():\n",
    "    print(f\"\\nDataset: {name}\")\n",
    "    print(\"=\" * (len(name) + 10))\n",
    "\n",
    "    # Display dataframe info\n",
    "    print(\"DataFrame Info:\")\n",
    "    df.info()\n",
    "\n",
    "    # Display column names and their data types\n",
    "    print(\"\\nColumn Names and Data Types:\")\n",
    "    print(df.dtypes)\n",
    "\n",
    "    # Print a separator for better readability\n",
    "    print(\"\\n\" + \"-\" * 50)"
   ]
  },
  {
   "cell_type": "code",
   "execution_count": null,
   "id": "7cd3334a1b091822",
   "metadata": {},
   "outputs": [],
   "source": [
    "df = pki_files[\"keypair_generation\"]\n",
    "\n",
    "# Calculate median values across all sets for each Algorithm and Iteration\n",
    "median_df = df.groupby(['Algorithm', 'Iteration']).median().reset_index()\n",
    "\n",
    "# Set style for better visualization\n",
    "sns.set_style(\"whitegrid\")\n",
    "\n",
    "# Plot Median Time Taken for Key Generation Over Iterations\n",
    "plt.figure(figsize=(12, 6))\n",
    "sns.lineplot(data=median_df, x='Iteration', y='Time_ns', hue='Algorithm', marker='o')\n",
    "plt.title('Median Time Taken for Key Generation Over Iterations')\n",
    "plt.xlabel('Iteration')\n",
    "plt.ylabel('Time (ns)')\n",
    "plt.yscale('log')\n",
    "plt.legend(title='Algorithm', bbox_to_anchor=(1.05, 1), loc='upper left')\n",
    "plt.grid()\n",
    "plt.show()\n",
    "\n"
   ]
  },
  {
   "cell_type": "code",
   "execution_count": null,
   "id": "d1a19e53b64d403f",
   "metadata": {},
   "outputs": [],
   "source": [
    "\n",
    "# Ensure numeric data types for accuracy\n",
    "df['Time_ns'] = pd.to_numeric(df['Time_ns'], errors='coerce')\n",
    "df['Memory_Usage'] = pd.to_numeric(df['Memory_Usage'], errors='coerce')\n",
    "df_cleaned = df.dropna(subset=['Time_ns', 'Memory_Usage'])\n",
    "\n",
    "# Set a publication-friendly style\n",
    "sns.set_theme(style=\"whitegrid\", context=\"paper\")\n",
    "\n",
    "# Create a refined pairplot for correlation analysis\n",
    "g = sns.pairplot(\n",
    "    df_cleaned,\n",
    "    hue='Algorithm',\n",
    "    vars=['Time_ns', 'Memory_Usage'],\n",
    "    palette='muted',\n",
    "    diag_kind='kde',\n",
    "    plot_kws={'alpha': 0.7, 's': 50},  # Adjust point transparency and size\n",
    "    markers=[\"o\", \"s\", \"D\", \"v\", \"^\", \"<\", \">\"]\n",
    ")\n",
    "\n",
    "# Customize plot appearance for publication\n",
    "g.fig.suptitle('Correlation Between Time Taken and Memory Usage by Algorithm', y=1.05, fontsize=14, fontweight='bold')\n",
    "g.fig.subplots_adjust(top=0.9)  # Adjust title position\n",
    "\n",
    "# Improve axis labels\n",
    "g.set(xscale=\"log\", yscale=\"log\")\n",
    "g.set_axis_labels(\"Time (ns)\", \"Memory Usage (bytes)\", fontsize=12)\n",
    "\n",
    "# Customize legend position and font size\n",
    "g._legend.set_bbox_to_anchor((1.02, 1))\n",
    "g._legend.set_title(\"Algorithm\")\n",
    "for text in g._legend.texts:\n",
    "    text.set_fontsize(10)\n",
    "\n",
    "# Save high-quality output for research paper\n",
    "# plt.savefig(\"correlation_analysis.png\", dpi=300, bbox_inches='tight')\n",
    "\n",
    "# Show the refined plot\n",
    "plt.show()"
   ]
  },
  {
   "cell_type": "code",
   "execution_count": null,
   "id": "9c01607f16b0070c",
   "metadata": {},
   "outputs": [],
   "source": [
    "# Create a bar plot to compare memory usage across different algorithms\n",
    "plt.figure(figsize=(12, 8))\n",
    "sns.barplot(\n",
    "    data=df,\n",
    "    x='Algorithm',\n",
    "    y='Memory_Usage',\n",
    "    estimator=sum,\n",
    "    ci=None,\n",
    "    palette='viridis'\n",
    ")\n",
    "\n",
    "# Customize plot aesthetics\n",
    "plt.title('Memory Usage Across Algorithms For Key Pair Generation', fontsize=16, fontweight='bold')\n",
    "plt.xlabel('Algorithm', fontsize=14)\n",
    "plt.ylabel('Memory Usage (Bytes)', fontsize=14)\n",
    "plt.xticks(rotation=45)\n",
    "plt.grid(axis='y', linestyle='--', alpha=0.7)\n",
    "\n",
    "# Show plot\n",
    "plt.show()"
   ]
  },
  {
   "cell_type": "code",
   "execution_count": null,
   "id": "fa0c1d9774b07bf0",
   "metadata": {},
   "outputs": [],
   "source": [
    "# Create a meaningful heatmap showing correlation between memory usage and time taken grouped by Algorithm\n",
    "plt.figure(figsize=(12, 8))\n",
    "corr_matrix = df_cleaned.groupby('Algorithm')[['Time_ns', 'Memory_Usage']].corr().reset_index()\n",
    "corr_matrix = corr_matrix.pivot(index='Algorithm', columns='level_1', values='Time_ns')\n",
    "sns.heatmap(\n",
    "    corr_matrix,\n",
    "    annot=True,\n",
    "    cmap='coolwarm',\n",
    "    linewidths=0.5\n",
    ")\n",
    "\n",
    "# Customize heatmap aesthetics\n",
    "plt.title('Correlation between Time Taken and Memory Usage by Algorithm', fontsize=16, fontweight='bold')\n",
    "plt.xlabel('Metrics')\n",
    "plt.ylabel('Algorithm')\n",
    "plt.show()"
   ]
  },
  {
   "cell_type": "code",
   "execution_count": 8,
   "id": "70fe3624c818a0ef",
   "metadata": {
    "ExecuteTime": {
     "end_time": "2025-01-26T12:08:29.918346Z",
     "start_time": "2025-01-26T12:08:29.913210Z"
    }
   },
   "outputs": [],
   "source": [
    "df_serial = pki_files[\"pki_serialization\"]"
   ]
  },
  {
   "cell_type": "code",
   "execution_count": null,
   "id": "8a4a705f51135b9e",
   "metadata": {
    "ExecuteTime": {
     "end_time": "2025-01-26T12:09:08.111371Z",
     "start_time": "2025-01-26T12:09:07.271658Z"
    }
   },
   "outputs": [],
   "source": [
    "# Segment 1: Serialization vs Deserialization time comparison\n",
    "plt.figure(figsize=(12, 8))\n",
    "sns.boxplot(\n",
    "    data=df_serial,\n",
    "    x='Algorithm',\n",
    "    y='SerializeTime_ns',\n",
    "    palette='pastel'\n",
    ")\n",
    "sns.boxplot(\n",
    "    data=df_serial,\n",
    "    x='Algorithm',\n",
    "    y='DeserializeTime_ns',\n",
    "    palette='muted'\n",
    ")\n",
    "plt.title('Serialization vs Deserialization Time Across Algorithms')\n",
    "plt.xlabel('Algorithm')\n",
    "plt.ylabel('Time (ns)')\n",
    "plt.xticks(rotation=45)\n",
    "plt.show()"
   ]
  },
  {
   "cell_type": "code",
   "execution_count": null,
   "id": "e1ea5fea2c1e6f0d",
   "metadata": {
    "ExecuteTime": {
     "end_time": "2025-01-26T12:09:19.749491Z",
     "start_time": "2025-01-26T12:09:19.011792Z"
    }
   },
   "outputs": [],
   "source": [
    "# Segment 2: Memory usage across algorithms\n",
    "plt.figure(figsize=(12, 8))\n",
    "sns.barplot(\n",
    "    data=df_serial,\n",
    "    x='Algorithm',\n",
    "    y='Memory_Usage',\n",
    "    palette='viridis'\n",
    ")\n",
    "plt.title('Memory Usage Across Algorithms (Serialization Benchmark)')\n",
    "plt.xlabel('Algorithm')\n",
    "plt.ylabel('Memory Usage (Bytes)')\n",
    "plt.xticks(rotation=45)\n",
    "plt.grid(axis='y', linestyle='--', alpha=0.7)\n",
    "plt.show()"
   ]
  },
  {
   "cell_type": "code",
   "execution_count": null,
   "id": "896073b63a8c7ad6",
   "metadata": {
    "ExecuteTime": {
     "end_time": "2025-01-26T12:36:12.682077Z",
     "start_time": "2025-01-26T12:36:12.175764Z"
    }
   },
   "outputs": [],
   "source": [
    "\n",
    "plt.figure(figsize=(12, 8))\n",
    "corr_matrix_serial = df_serial.groupby('Algorithm')[['SerializeTime_ns', 'DeserializeTime_ns', 'Memory_Usage']].corr().reset_index()\n",
    "corr_matrix_serial = corr_matrix_serial.pivot(index='Algorithm', columns='level_1', values='SerializeTime_ns')\n",
    "sns.heatmap(\n",
    "    corr_matrix_serial,\n",
    "    annot=True,\n",
    "    cmap='coolwarm',\n",
    "    linewidths=0.5\n",
    ")\n",
    "plt.title('Correlation Heatmap for Serialization Benchmark Grouped by Algorithm')\n",
    "plt.xlabel('Metrics')\n",
    "plt.ylabel('Algorithm')\n",
    "plt.show()\n",
    "\n"
   ]
  },
  {
   "cell_type": "code",
   "execution_count": null,
   "id": "8278efbe",
   "metadata": {},
   "outputs": [],
   "source": [
    "# Load the dataset\n",
    "file_path = \"pki_key_exchange_benchmark.csv\"  # Ensure the correct file path\n",
    "df = pd.read_csv(file_path)\n",
    "\n",
    "# Convert time values from nanoseconds to milliseconds for readability\n",
    "df[\"EncapsulationTime_ms\"] = df[\"EncapsulationTime_ns\"] / 1e6\n",
    "df[\"DecapsulationTime_ms\"] = df[\"DecapsulationTime_ns\"] / 1e6\n",
    "\n",
    "# Set Seaborn style\n",
    "sns.set_theme(style=\"whitegrid\")\n",
    "\n",
    "# Melt the DataFrame to have a column indicating Encapsulation or Decapsulation\n",
    "df_melted = df.melt(id_vars=[\"Algorithm\"], \n",
    "                     value_vars=[\"EncapsulationTime_ms\", \"DecapsulationTime_ms\"],\n",
    "                     var_name=\"Process\", value_name=\"Time_ms\")\n",
    "\n",
    "# Create a box plot grouped by Algorithm with hue set to Encapsulation and Decapsulation\n",
    "plt.figure(figsize=(14, 7))\n",
    "sns.boxplot(x=\"Algorithm\", y=\"Time_ms\", hue=\"Process\", data=df_melted, palette=\"coolwarm\")\n",
    "\n",
    "# Titles and labels\n",
    "plt.title(\"PKI Key Exchange Benchmark - Encapsulation vs Decapsulation Time (Box Plot)\", fontsize=14)\n",
    "plt.xlabel(\"Algorithm\", fontsize=12)\n",
    "plt.ylabel(\"Time (ms)\", fontsize=12)\n",
    "plt.legend(title=\"Process\")\n",
    "\n",
    "# Show plot\n",
    "plt.xticks(rotation=45)\n",
    "plt.show()"
   ]
  }
 ],
 "metadata": {
  "kernelspec": {
   "display_name": "base",
   "language": "python",
   "name": "python3"
  },
  "language_info": {
   "codemirror_mode": {
    "name": "ipython",
    "version": 3
   },
   "file_extension": ".py",
   "mimetype": "text/x-python",
   "name": "python",
   "nbconvert_exporter": "python",
   "pygments_lexer": "ipython3",
   "version": "3.9.13"
  }
 },
 "nbformat": 4,
 "nbformat_minor": 5
}
